{
 "cells": [
  {
   "cell_type": "code",
   "execution_count": 4,
   "id": "115eac52-afe4-4cd9-b211-246980e4508d",
   "metadata": {},
   "outputs": [
    {
     "data": {
      "text/html": [
       "<div>\n",
       "<style scoped>\n",
       "    .dataframe tbody tr th:only-of-type {\n",
       "        vertical-align: middle;\n",
       "    }\n",
       "\n",
       "    .dataframe tbody tr th {\n",
       "        vertical-align: top;\n",
       "    }\n",
       "\n",
       "    .dataframe thead th {\n",
       "        text-align: right;\n",
       "    }\n",
       "</style>\n",
       "<table border=\"1\" class=\"dataframe\">\n",
       "  <thead>\n",
       "    <tr style=\"text-align: right;\">\n",
       "      <th></th>\n",
       "      <th>Unnamed: 0</th>\n",
       "      <th>Company</th>\n",
       "      <th>Valuation ($B)</th>\n",
       "      <th>Date Joined</th>\n",
       "      <th>Country</th>\n",
       "      <th>City</th>\n",
       "      <th>Industry</th>\n",
       "      <th>Select Investors</th>\n",
       "    </tr>\n",
       "  </thead>\n",
       "  <tbody>\n",
       "    <tr>\n",
       "      <th>0</th>\n",
       "      <td>0</td>\n",
       "      <td>Bytedance</td>\n",
       "      <td>$140</td>\n",
       "      <td>4/7/2017</td>\n",
       "      <td>China</td>\n",
       "      <td>Beijing</td>\n",
       "      <td>Artificial intelligence</td>\n",
       "      <td>Sequoia Capital China, SIG Asia Investments, S...</td>\n",
       "    </tr>\n",
       "    <tr>\n",
       "      <th>1</th>\n",
       "      <td>1</td>\n",
       "      <td>SpaceX</td>\n",
       "      <td>$100.3</td>\n",
       "      <td>12/1/2012</td>\n",
       "      <td>United States</td>\n",
       "      <td>Hawthorne</td>\n",
       "      <td>Other</td>\n",
       "      <td>Founders Fund, Draper Fisher Jurvetson, Rothen...</td>\n",
       "    </tr>\n",
       "    <tr>\n",
       "      <th>2</th>\n",
       "      <td>2</td>\n",
       "      <td>Stripe</td>\n",
       "      <td>$95</td>\n",
       "      <td>1/23/2014</td>\n",
       "      <td>United States</td>\n",
       "      <td>San Francisco</td>\n",
       "      <td>Fintech</td>\n",
       "      <td>Khosla Ventures, LowercaseCapital, capitalG</td>\n",
       "    </tr>\n",
       "    <tr>\n",
       "      <th>3</th>\n",
       "      <td>3</td>\n",
       "      <td>Klarna</td>\n",
       "      <td>$45.6</td>\n",
       "      <td>12/12/2011</td>\n",
       "      <td>Sweden</td>\n",
       "      <td>Stockholm</td>\n",
       "      <td>Fintech</td>\n",
       "      <td>Institutional Venture Partners, Sequoia Capita...</td>\n",
       "    </tr>\n",
       "    <tr>\n",
       "      <th>4</th>\n",
       "      <td>4</td>\n",
       "      <td>Canva</td>\n",
       "      <td>$40</td>\n",
       "      <td>1/8/2018</td>\n",
       "      <td>Australia</td>\n",
       "      <td>Surry Hills</td>\n",
       "      <td>Internet software &amp; services</td>\n",
       "      <td>Sequoia Capital China, Blackbird Ventures, Mat...</td>\n",
       "    </tr>\n",
       "  </tbody>\n",
       "</table>\n",
       "</div>"
      ],
      "text/plain": [
       "   Unnamed: 0    Company Valuation ($B) Date Joined        Country  \\\n",
       "0           0  Bytedance           $140    4/7/2017          China   \n",
       "1           1     SpaceX         $100.3   12/1/2012  United States   \n",
       "2           2     Stripe            $95   1/23/2014  United States   \n",
       "3           3     Klarna          $45.6  12/12/2011         Sweden   \n",
       "4           4      Canva            $40    1/8/2018      Australia   \n",
       "\n",
       "            City                      Industry  \\\n",
       "0        Beijing       Artificial intelligence   \n",
       "1      Hawthorne                         Other   \n",
       "2  San Francisco                       Fintech   \n",
       "3      Stockholm                       Fintech   \n",
       "4    Surry Hills  Internet software & services   \n",
       "\n",
       "                                    Select Investors  \n",
       "0  Sequoia Capital China, SIG Asia Investments, S...  \n",
       "1  Founders Fund, Draper Fisher Jurvetson, Rothen...  \n",
       "2        Khosla Ventures, LowercaseCapital, capitalG  \n",
       "3  Institutional Venture Partners, Sequoia Capita...  \n",
       "4  Sequoia Capital China, Blackbird Ventures, Mat...  "
      ]
     },
     "execution_count": 4,
     "metadata": {},
     "output_type": "execute_result"
    }
   ],
   "source": [
    "import pandas as pd\n",
    "startup = pd.read_csv(\"C:/Startups in 2021.csv\")\n",
    "startup.head(5)"
   ]
  },
  {
   "cell_type": "code",
   "execution_count": 6,
   "id": "f7426bd2-25e8-4d9a-9400-45ac8d09f2fc",
   "metadata": {},
   "outputs": [
    {
     "name": "stdout",
     "output_type": "stream",
     "text": [
      "<class 'pandas.core.frame.DataFrame'>\n",
      "RangeIndex: 936 entries, 0 to 935\n",
      "Data columns (total 8 columns):\n",
      " #   Column            Non-Null Count  Dtype \n",
      "---  ------            --------------  ----- \n",
      " 0   Unnamed: 0        936 non-null    int64 \n",
      " 1   Company           936 non-null    object\n",
      " 2   Valuation ($B)    936 non-null    object\n",
      " 3   Date Joined       936 non-null    object\n",
      " 4   Country           936 non-null    object\n",
      " 5   City              921 non-null    object\n",
      " 6   Industry          936 non-null    object\n",
      " 7   Select Investors  935 non-null    object\n",
      "dtypes: int64(1), object(7)\n",
      "memory usage: 58.6+ KB\n",
      "None\n",
      "       Unnamed: 0\n",
      "count  936.000000\n",
      "mean   467.500000\n",
      "std    270.344225\n",
      "min      0.000000\n",
      "25%    233.750000\n",
      "50%    467.500000\n",
      "75%    701.250000\n",
      "max    935.000000\n"
     ]
    }
   ],
   "source": [
    "print(startup.info())\n",
    "print(startup.describe())"
   ]
  },
  {
   "cell_type": "code",
   "execution_count": 10,
   "id": "9b12e103-2262-4b11-b5bd-a5e447a0f0e7",
   "metadata": {},
   "outputs": [
    {
     "data": {
      "text/plain": [
       "(   Unnamed: 0    Company Valuation ($B) Date Joined        Country  \\\n",
       " 0           0  Bytedance           $140    4/7/2017          China   \n",
       " 1           1     SpaceX         $100.3   12/1/2012  United States   \n",
       " 2           2     Stripe            $95   1/23/2014  United States   \n",
       " 3           3     Klarna          $45.6  12/12/2011         Sweden   \n",
       " 5           5  Instacart            $39  12/30/2014  United States   \n",
       " \n",
       "             City                             Industry  \\\n",
       " 0        Beijing              Artificial intelligence   \n",
       " 1      Hawthorne                                Other   \n",
       " 2  San Francisco                              Fintech   \n",
       " 3      Stockholm                              Fintech   \n",
       " 5  San Francisco  Supply chain, logistics, & delivery   \n",
       " \n",
       "                                     Select Investors  \n",
       " 0  Sequoia Capital China, SIG Asia Investments, S...  \n",
       " 1  Founders Fund, Draper Fisher Jurvetson, Rothen...  \n",
       " 2        Khosla Ventures, LowercaseCapital, capitalG  \n",
       " 3  Institutional Venture Partners, Sequoia Capita...  \n",
       " 5  Khosla Ventures, Kleiner Perkins Caufield & By...  ,\n",
       " 'C:/Users/Dell/Documents/startup_cleaned.csv')"
      ]
     },
     "execution_count": 10,
     "metadata": {},
     "output_type": "execute_result"
    }
   ],
   "source": [
    "# List of European countries for filtering\n",
    "european_countries = [\n",
    "    \"Sweden\", \"Germany\", \"France\", \"United Kingdom\", \"Italy\", \"Spain\", \n",
    "    \"Netherlands\", \"Poland\", \"Belgium\", \"Denmark\", \"Finland\", \"Austria\",\n",
    "    \"Norway\", \"Ireland\", \"Portugal\", \"Czech Republic\", \"Greece\", \"Hungary\",\n",
    "    \"Switzerland\", \"Slovakia\", \"Slovenia\", \"Luxembourg\", \"Iceland\", \"Estonia\",\n",
    "    \"Latvia\", \"Lithuania\", \"Malta\", \"Romania\", \"Bulgaria\", \"Croatia\"\n",
    "]\n",
    "\n",
    "# Filter data for China, USA, and European countries\n",
    "filtered_data = startup[\n",
    "    startup['Country'].isin(['China', 'United States'] + european_countries)\n",
    "]\n",
    "\n",
    "# Save the filtered data for review\n",
    "filtered_file_path ='C:/Users/Dell/Documents/startup_cleaned.csv'\n",
    "\n",
    "filtered_data.to_csv(filtered_file_path, index=False)\n",
    "\n",
    "filtered_data.head(), filtered_file_path\n"
   ]
  },
  {
   "cell_type": "code",
   "execution_count": 34,
   "id": "65d9d4ec-8b3a-4831-aacd-54b038c9487e",
   "metadata": {},
   "outputs": [
    {
     "name": "stdout",
     "output_type": "stream",
     "text": [
      "Unnamed: 0          0\n",
      "Company             0\n",
      "Valuation ($B)      0\n",
      "Date Joined         0\n",
      "Country             0\n",
      "City                0\n",
      "Industry            0\n",
      "Select Investors    0\n",
      "select investors    0\n",
      "dtype: int64\n"
     ]
    }
   ],
   "source": [
    "print(filtered_data.isnull().sum())\n",
    "filtered_data = filtered_data.dropna()"
   ]
  },
  {
   "cell_type": "code",
   "execution_count": 20,
   "id": "5629157e-4e9e-4eed-92b1-c7b3a499f2a6",
   "metadata": {},
   "outputs": [],
   "source": [
    "start = pd.read_csv(\"C:/startup_cleaned.csv\")"
   ]
  },
  {
   "cell_type": "code",
   "execution_count": 22,
   "id": "a38bce99-1009-484d-9f4c-30cde5c3c7cf",
   "metadata": {},
   "outputs": [],
   "source": [
    "# Transformer les valeurs de 'Valuation ($B)' en float en supprimant \"$\" et \",\"\n",
    "start['Valuation ($B)'] = start['Valuation ($B)'].astype(str).str.replace('$', '', regex=False).str.replace(',', '', regex=False)\n",
    "\n",
    "# Convertir en float (en gérant les erreurs potentielles)\n",
    "start['Valuation ($B)'] = pd.to_numeric(start['Valuation ($B)'], errors='coerce')\n",
    "start = start.drop(columns=['Date Joined'])\n",
    "\n",
    "start.to_csv(\"C:/dataset/lastversion_startup.csv\", index=False)"
   ]
  },
  {
   "cell_type": "code",
   "execution_count": 38,
   "id": "dae2e37c-a94b-40f2-993f-d7c688ae4978",
   "metadata": {},
   "outputs": [
    {
     "data": {
      "text/html": [
       "<div>\n",
       "<style scoped>\n",
       "    .dataframe tbody tr th:only-of-type {\n",
       "        vertical-align: middle;\n",
       "    }\n",
       "\n",
       "    .dataframe tbody tr th {\n",
       "        vertical-align: top;\n",
       "    }\n",
       "\n",
       "    .dataframe thead th {\n",
       "        text-align: right;\n",
       "    }\n",
       "</style>\n",
       "<table border=\"1\" class=\"dataframe\">\n",
       "  <thead>\n",
       "    <tr style=\"text-align: right;\">\n",
       "      <th></th>\n",
       "      <th>Unnamed: 0</th>\n",
       "      <th>Company</th>\n",
       "      <th>Valuation ($B)</th>\n",
       "      <th>Country</th>\n",
       "      <th>City</th>\n",
       "      <th>Industry</th>\n",
       "      <th>Select Investors</th>\n",
       "    </tr>\n",
       "  </thead>\n",
       "  <tbody>\n",
       "    <tr>\n",
       "      <th>0</th>\n",
       "      <td>0</td>\n",
       "      <td>Bytedance</td>\n",
       "      <td>140.0</td>\n",
       "      <td>China</td>\n",
       "      <td>Beijing</td>\n",
       "      <td>Artificial intelligence</td>\n",
       "      <td>Sequoia Capital China, SIG Asia Investments, S...</td>\n",
       "    </tr>\n",
       "    <tr>\n",
       "      <th>1</th>\n",
       "      <td>1</td>\n",
       "      <td>SpaceX</td>\n",
       "      <td>100.3</td>\n",
       "      <td>United States</td>\n",
       "      <td>Hawthorne</td>\n",
       "      <td>Other</td>\n",
       "      <td>Founders Fund, Draper Fisher Jurvetson, Rothen...</td>\n",
       "    </tr>\n",
       "    <tr>\n",
       "      <th>2</th>\n",
       "      <td>2</td>\n",
       "      <td>Stripe</td>\n",
       "      <td>95.0</td>\n",
       "      <td>United States</td>\n",
       "      <td>San Francisco</td>\n",
       "      <td>Fintech</td>\n",
       "      <td>Khosla Ventures, LowercaseCapital, capitalG</td>\n",
       "    </tr>\n",
       "    <tr>\n",
       "      <th>3</th>\n",
       "      <td>3</td>\n",
       "      <td>Klarna</td>\n",
       "      <td>45.6</td>\n",
       "      <td>Sweden</td>\n",
       "      <td>Stockholm</td>\n",
       "      <td>Fintech</td>\n",
       "      <td>Institutional Venture Partners, Sequoia Capita...</td>\n",
       "    </tr>\n",
       "    <tr>\n",
       "      <th>4</th>\n",
       "      <td>5</td>\n",
       "      <td>Instacart</td>\n",
       "      <td>39.0</td>\n",
       "      <td>United States</td>\n",
       "      <td>San Francisco</td>\n",
       "      <td>Supply chain, logistics, &amp; delivery</td>\n",
       "      <td>Khosla Ventures, Kleiner Perkins Caufield &amp; By...</td>\n",
       "    </tr>\n",
       "  </tbody>\n",
       "</table>\n",
       "</div>"
      ],
      "text/plain": [
       "   Unnamed: 0    Company  Valuation ($B)        Country           City  \\\n",
       "0           0  Bytedance           140.0          China        Beijing   \n",
       "1           1     SpaceX           100.3  United States      Hawthorne   \n",
       "2           2     Stripe            95.0  United States  San Francisco   \n",
       "3           3     Klarna            45.6         Sweden      Stockholm   \n",
       "4           5  Instacart            39.0  United States  San Francisco   \n",
       "\n",
       "                              Industry  \\\n",
       "0              Artificial intelligence   \n",
       "1                                Other   \n",
       "2                              Fintech   \n",
       "3                              Fintech   \n",
       "4  Supply chain, logistics, & delivery   \n",
       "\n",
       "                                    Select Investors  \n",
       "0  Sequoia Capital China, SIG Asia Investments, S...  \n",
       "1  Founders Fund, Draper Fisher Jurvetson, Rothen...  \n",
       "2        Khosla Ventures, LowercaseCapital, capitalG  \n",
       "3  Institutional Venture Partners, Sequoia Capita...  \n",
       "4  Khosla Ventures, Kleiner Perkins Caufield & By...  "
      ]
     },
     "execution_count": 38,
     "metadata": {},
     "output_type": "execute_result"
    }
   ],
   "source": [
    "start.head(5)"
   ]
  },
  {
   "cell_type": "code",
   "execution_count": 26,
   "id": "36d3f033-7585-4334-9cea-a1bb24688f87",
   "metadata": {},
   "outputs": [
    {
     "data": {
      "text/plain": [
       "(761, 7)"
      ]
     },
     "execution_count": 26,
     "metadata": {},
     "output_type": "execute_result"
    }
   ],
   "source": [
    "start.shape"
   ]
  },
  {
   "cell_type": "code",
   "execution_count": 28,
   "id": "eaad3e07-9e57-4a4d-83d2-59a31a2229ce",
   "metadata": {},
   "outputs": [
    {
     "data": {
      "text/html": [
       "<div>\n",
       "<style scoped>\n",
       "    .dataframe tbody tr th:only-of-type {\n",
       "        vertical-align: middle;\n",
       "    }\n",
       "\n",
       "    .dataframe tbody tr th {\n",
       "        vertical-align: top;\n",
       "    }\n",
       "\n",
       "    .dataframe thead th {\n",
       "        text-align: right;\n",
       "    }\n",
       "</style>\n",
       "<table border=\"1\" class=\"dataframe\">\n",
       "  <thead>\n",
       "    <tr style=\"text-align: right;\">\n",
       "      <th></th>\n",
       "      <th>Unnamed: 0</th>\n",
       "      <th>Valuation ($B)</th>\n",
       "    </tr>\n",
       "  </thead>\n",
       "  <tbody>\n",
       "    <tr>\n",
       "      <th>count</th>\n",
       "      <td>761.000000</td>\n",
       "      <td>761.000000</td>\n",
       "    </tr>\n",
       "    <tr>\n",
       "      <th>mean</th>\n",
       "      <td>462.638633</td>\n",
       "      <td>3.354152</td>\n",
       "    </tr>\n",
       "    <tr>\n",
       "      <th>std</th>\n",
       "      <td>268.511848</td>\n",
       "      <td>7.977530</td>\n",
       "    </tr>\n",
       "    <tr>\n",
       "      <th>min</th>\n",
       "      <td>0.000000</td>\n",
       "      <td>1.000000</td>\n",
       "    </tr>\n",
       "    <tr>\n",
       "      <th>25%</th>\n",
       "      <td>224.000000</td>\n",
       "      <td>1.100000</td>\n",
       "    </tr>\n",
       "    <tr>\n",
       "      <th>50%</th>\n",
       "      <td>472.000000</td>\n",
       "      <td>1.600000</td>\n",
       "    </tr>\n",
       "    <tr>\n",
       "      <th>75%</th>\n",
       "      <td>692.000000</td>\n",
       "      <td>3.100000</td>\n",
       "    </tr>\n",
       "    <tr>\n",
       "      <th>max</th>\n",
       "      <td>934.000000</td>\n",
       "      <td>140.000000</td>\n",
       "    </tr>\n",
       "  </tbody>\n",
       "</table>\n",
       "</div>"
      ],
      "text/plain": [
       "       Unnamed: 0  Valuation ($B)\n",
       "count  761.000000      761.000000\n",
       "mean   462.638633        3.354152\n",
       "std    268.511848        7.977530\n",
       "min      0.000000        1.000000\n",
       "25%    224.000000        1.100000\n",
       "50%    472.000000        1.600000\n",
       "75%    692.000000        3.100000\n",
       "max    934.000000      140.000000"
      ]
     },
     "execution_count": 28,
     "metadata": {},
     "output_type": "execute_result"
    }
   ],
   "source": [
    "start.describe()"
   ]
  },
  {
   "cell_type": "code",
   "execution_count": 210,
   "id": "d97018f2-5ea7-4863-8c79-4642d6edae9e",
   "metadata": {},
   "outputs": [
    {
     "name": "stdout",
     "output_type": "stream",
     "text": [
      "<class 'pandas.core.frame.DataFrame'>\n",
      "RangeIndex: 761 entries, 0 to 760\n",
      "Data columns (total 7 columns):\n",
      " #   Column            Non-Null Count  Dtype  \n",
      "---  ------            --------------  -----  \n",
      " 0   Unnamed: 0        761 non-null    int64  \n",
      " 1   Company           761 non-null    object \n",
      " 2   Valuation ($B)    761 non-null    float64\n",
      " 3   Country           761 non-null    object \n",
      " 4   City              761 non-null    object \n",
      " 5   Industry          761 non-null    object \n",
      " 6   Select Investors  760 non-null    object \n",
      "dtypes: float64(1), int64(1), object(5)\n",
      "memory usage: 41.7+ KB\n"
     ]
    }
   ],
   "source": [
    "start.info()"
   ]
  },
  {
   "cell_type": "code",
   "execution_count": 212,
   "id": "f1c1618c-5de9-4fd2-9a93-b4d5b369d2dc",
   "metadata": {},
   "outputs": [
    {
     "data": {
      "text/html": [
       "<div>\n",
       "<style scoped>\n",
       "    .dataframe tbody tr th:only-of-type {\n",
       "        vertical-align: middle;\n",
       "    }\n",
       "\n",
       "    .dataframe tbody tr th {\n",
       "        vertical-align: top;\n",
       "    }\n",
       "\n",
       "    .dataframe thead th {\n",
       "        text-align: right;\n",
       "    }\n",
       "</style>\n",
       "<table border=\"1\" class=\"dataframe\">\n",
       "  <thead>\n",
       "    <tr style=\"text-align: right;\">\n",
       "      <th></th>\n",
       "      <th>Unnamed: 0</th>\n",
       "      <th>Company</th>\n",
       "      <th>Valuation ($B)</th>\n",
       "      <th>Country</th>\n",
       "      <th>City</th>\n",
       "      <th>Industry</th>\n",
       "      <th>Select Investors</th>\n",
       "    </tr>\n",
       "  </thead>\n",
       "  <tbody>\n",
       "    <tr>\n",
       "      <th>0</th>\n",
       "      <td>0</td>\n",
       "      <td>Bytedance</td>\n",
       "      <td>140.0</td>\n",
       "      <td>China</td>\n",
       "      <td>Beijing</td>\n",
       "      <td>Artificial intelligence</td>\n",
       "      <td>Sequoia Capital China, SIG Asia Investments, S...</td>\n",
       "    </tr>\n",
       "    <tr>\n",
       "      <th>1</th>\n",
       "      <td>1</td>\n",
       "      <td>SpaceX</td>\n",
       "      <td>100.3</td>\n",
       "      <td>United States</td>\n",
       "      <td>Hawthorne</td>\n",
       "      <td>Other</td>\n",
       "      <td>Founders Fund, Draper Fisher Jurvetson, Rothen...</td>\n",
       "    </tr>\n",
       "    <tr>\n",
       "      <th>2</th>\n",
       "      <td>2</td>\n",
       "      <td>Stripe</td>\n",
       "      <td>95.0</td>\n",
       "      <td>United States</td>\n",
       "      <td>San Francisco</td>\n",
       "      <td>Fintech</td>\n",
       "      <td>Khosla Ventures, LowercaseCapital, capitalG</td>\n",
       "    </tr>\n",
       "    <tr>\n",
       "      <th>3</th>\n",
       "      <td>3</td>\n",
       "      <td>Klarna</td>\n",
       "      <td>45.6</td>\n",
       "      <td>Sweden</td>\n",
       "      <td>Stockholm</td>\n",
       "      <td>Fintech</td>\n",
       "      <td>Institutional Venture Partners, Sequoia Capita...</td>\n",
       "    </tr>\n",
       "    <tr>\n",
       "      <th>4</th>\n",
       "      <td>5</td>\n",
       "      <td>Instacart</td>\n",
       "      <td>39.0</td>\n",
       "      <td>United States</td>\n",
       "      <td>San Francisco</td>\n",
       "      <td>Supply chain, logistics, &amp; delivery</td>\n",
       "      <td>Khosla Ventures, Kleiner Perkins Caufield &amp; By...</td>\n",
       "    </tr>\n",
       "  </tbody>\n",
       "</table>\n",
       "</div>"
      ],
      "text/plain": [
       "   Unnamed: 0    Company  Valuation ($B)        Country           City  \\\n",
       "0           0  Bytedance           140.0          China        Beijing   \n",
       "1           1     SpaceX           100.3  United States      Hawthorne   \n",
       "2           2     Stripe            95.0  United States  San Francisco   \n",
       "3           3     Klarna            45.6         Sweden      Stockholm   \n",
       "4           5  Instacart            39.0  United States  San Francisco   \n",
       "\n",
       "                              Industry  \\\n",
       "0              Artificial intelligence   \n",
       "1                                Other   \n",
       "2                              Fintech   \n",
       "3                              Fintech   \n",
       "4  Supply chain, logistics, & delivery   \n",
       "\n",
       "                                    Select Investors  \n",
       "0  Sequoia Capital China, SIG Asia Investments, S...  \n",
       "1  Founders Fund, Draper Fisher Jurvetson, Rothen...  \n",
       "2        Khosla Ventures, LowercaseCapital, capitalG  \n",
       "3  Institutional Venture Partners, Sequoia Capita...  \n",
       "4  Khosla Ventures, Kleiner Perkins Caufield & By...  "
      ]
     },
     "execution_count": 212,
     "metadata": {},
     "output_type": "execute_result"
    }
   ],
   "source": [
    "start.head(5)"
   ]
  },
  {
   "cell_type": "code",
   "execution_count": 214,
   "id": "cb880c79-f6b1-456c-96c7-c3305cf1a28b",
   "metadata": {},
   "outputs": [
    {
     "data": {
      "text/plain": [
       "140.0"
      ]
     },
     "execution_count": 214,
     "metadata": {},
     "output_type": "execute_result"
    }
   ],
   "source": [
    "start[\"Valuation ($B)\"].max()"
   ]
  },
  {
   "cell_type": "code",
   "execution_count": 226,
   "id": "0249e55c-5e93-4128-904e-d96844c22cc2",
   "metadata": {},
   "outputs": [
    {
     "data": {
      "text/plain": [
       "1.0"
      ]
     },
     "execution_count": 226,
     "metadata": {},
     "output_type": "execute_result"
    }
   ],
   "source": [
    "start[\"Valuation ($B)\"].min()"
   ]
  },
  {
   "cell_type": "code",
   "execution_count": 228,
   "id": "e3d469c2-9246-4d96-97fb-7c6e2833a2ea",
   "metadata": {},
   "outputs": [],
   "source": [
    "above_20 = start[start[\"Valuation ($B)\"] > 20]"
   ]
  },
  {
   "cell_type": "code",
   "execution_count": 230,
   "id": "b6babf8b-9ebf-4300-8101-1854e3c72f28",
   "metadata": {},
   "outputs": [
    {
     "data": {
      "text/html": [
       "<div>\n",
       "<style scoped>\n",
       "    .dataframe tbody tr th:only-of-type {\n",
       "        vertical-align: middle;\n",
       "    }\n",
       "\n",
       "    .dataframe tbody tr th {\n",
       "        vertical-align: top;\n",
       "    }\n",
       "\n",
       "    .dataframe thead th {\n",
       "        text-align: right;\n",
       "    }\n",
       "</style>\n",
       "<table border=\"1\" class=\"dataframe\">\n",
       "  <thead>\n",
       "    <tr style=\"text-align: right;\">\n",
       "      <th></th>\n",
       "      <th>Unnamed: 0</th>\n",
       "      <th>Company</th>\n",
       "      <th>Valuation ($B)</th>\n",
       "      <th>Country</th>\n",
       "      <th>City</th>\n",
       "      <th>Industry</th>\n",
       "      <th>Select Investors</th>\n",
       "    </tr>\n",
       "  </thead>\n",
       "  <tbody>\n",
       "    <tr>\n",
       "      <th>0</th>\n",
       "      <td>0</td>\n",
       "      <td>Bytedance</td>\n",
       "      <td>140.0</td>\n",
       "      <td>China</td>\n",
       "      <td>Beijing</td>\n",
       "      <td>Artificial intelligence</td>\n",
       "      <td>Sequoia Capital China, SIG Asia Investments, S...</td>\n",
       "    </tr>\n",
       "    <tr>\n",
       "      <th>1</th>\n",
       "      <td>1</td>\n",
       "      <td>SpaceX</td>\n",
       "      <td>100.3</td>\n",
       "      <td>United States</td>\n",
       "      <td>Hawthorne</td>\n",
       "      <td>Other</td>\n",
       "      <td>Founders Fund, Draper Fisher Jurvetson, Rothen...</td>\n",
       "    </tr>\n",
       "    <tr>\n",
       "      <th>2</th>\n",
       "      <td>2</td>\n",
       "      <td>Stripe</td>\n",
       "      <td>95.0</td>\n",
       "      <td>United States</td>\n",
       "      <td>San Francisco</td>\n",
       "      <td>Fintech</td>\n",
       "      <td>Khosla Ventures, LowercaseCapital, capitalG</td>\n",
       "    </tr>\n",
       "    <tr>\n",
       "      <th>3</th>\n",
       "      <td>3</td>\n",
       "      <td>Klarna</td>\n",
       "      <td>45.6</td>\n",
       "      <td>Sweden</td>\n",
       "      <td>Stockholm</td>\n",
       "      <td>Fintech</td>\n",
       "      <td>Institutional Venture Partners, Sequoia Capita...</td>\n",
       "    </tr>\n",
       "    <tr>\n",
       "      <th>4</th>\n",
       "      <td>5</td>\n",
       "      <td>Instacart</td>\n",
       "      <td>39.0</td>\n",
       "      <td>United States</td>\n",
       "      <td>San Francisco</td>\n",
       "      <td>Supply chain, logistics, &amp; delivery</td>\n",
       "      <td>Khosla Ventures, Kleiner Perkins Caufield &amp; By...</td>\n",
       "    </tr>\n",
       "  </tbody>\n",
       "</table>\n",
       "</div>"
      ],
      "text/plain": [
       "   Unnamed: 0    Company  Valuation ($B)        Country           City  \\\n",
       "0           0  Bytedance           140.0          China        Beijing   \n",
       "1           1     SpaceX           100.3  United States      Hawthorne   \n",
       "2           2     Stripe            95.0  United States  San Francisco   \n",
       "3           3     Klarna            45.6         Sweden      Stockholm   \n",
       "4           5  Instacart            39.0  United States  San Francisco   \n",
       "\n",
       "                              Industry  \\\n",
       "0              Artificial intelligence   \n",
       "1                                Other   \n",
       "2                              Fintech   \n",
       "3                              Fintech   \n",
       "4  Supply chain, logistics, & delivery   \n",
       "\n",
       "                                    Select Investors  \n",
       "0  Sequoia Capital China, SIG Asia Investments, S...  \n",
       "1  Founders Fund, Draper Fisher Jurvetson, Rothen...  \n",
       "2        Khosla Ventures, LowercaseCapital, capitalG  \n",
       "3  Institutional Venture Partners, Sequoia Capita...  \n",
       "4  Khosla Ventures, Kleiner Perkins Caufield & By...  "
      ]
     },
     "execution_count": 230,
     "metadata": {},
     "output_type": "execute_result"
    }
   ],
   "source": [
    "above_20.head()"
   ]
  },
  {
   "cell_type": "code",
   "execution_count": 232,
   "id": "d9222fb2-a9a0-49f7-b61f-7be4c97382b0",
   "metadata": {},
   "outputs": [
    {
     "data": {
      "text/plain": [
       "0       True\n",
       "1       True\n",
       "2       True\n",
       "3       True\n",
       "4       True\n",
       "       ...  \n",
       "756    False\n",
       "757    False\n",
       "758    False\n",
       "759    False\n",
       "760    False\n",
       "Name: Valuation ($B), Length: 761, dtype: bool"
      ]
     },
     "execution_count": 232,
     "metadata": {},
     "output_type": "execute_result"
    }
   ],
   "source": [
    "start[\"Valuation ($B)\"] > 20"
   ]
  },
  {
   "cell_type": "code",
   "execution_count": 234,
   "id": "1c5da905-27c5-4ead-b2ea-071f28bac33e",
   "metadata": {},
   "outputs": [
    {
     "data": {
      "text/html": [
       "<div>\n",
       "<style scoped>\n",
       "    .dataframe tbody tr th:only-of-type {\n",
       "        vertical-align: middle;\n",
       "    }\n",
       "\n",
       "    .dataframe tbody tr th {\n",
       "        vertical-align: top;\n",
       "    }\n",
       "\n",
       "    .dataframe thead th {\n",
       "        text-align: right;\n",
       "    }\n",
       "</style>\n",
       "<table border=\"1\" class=\"dataframe\">\n",
       "  <thead>\n",
       "    <tr style=\"text-align: right;\">\n",
       "      <th></th>\n",
       "      <th>Unnamed: 0</th>\n",
       "      <th>Valuation ($B)</th>\n",
       "    </tr>\n",
       "  </thead>\n",
       "  <tbody>\n",
       "    <tr>\n",
       "      <th>count</th>\n",
       "      <td>761.000000</td>\n",
       "      <td>761.000000</td>\n",
       "    </tr>\n",
       "    <tr>\n",
       "      <th>mean</th>\n",
       "      <td>462.638633</td>\n",
       "      <td>3.354152</td>\n",
       "    </tr>\n",
       "    <tr>\n",
       "      <th>std</th>\n",
       "      <td>268.511848</td>\n",
       "      <td>7.977530</td>\n",
       "    </tr>\n",
       "    <tr>\n",
       "      <th>min</th>\n",
       "      <td>0.000000</td>\n",
       "      <td>1.000000</td>\n",
       "    </tr>\n",
       "    <tr>\n",
       "      <th>25%</th>\n",
       "      <td>224.000000</td>\n",
       "      <td>1.100000</td>\n",
       "    </tr>\n",
       "    <tr>\n",
       "      <th>50%</th>\n",
       "      <td>472.000000</td>\n",
       "      <td>1.600000</td>\n",
       "    </tr>\n",
       "    <tr>\n",
       "      <th>75%</th>\n",
       "      <td>692.000000</td>\n",
       "      <td>3.100000</td>\n",
       "    </tr>\n",
       "    <tr>\n",
       "      <th>max</th>\n",
       "      <td>934.000000</td>\n",
       "      <td>140.000000</td>\n",
       "    </tr>\n",
       "  </tbody>\n",
       "</table>\n",
       "</div>"
      ],
      "text/plain": [
       "       Unnamed: 0  Valuation ($B)\n",
       "count  761.000000      761.000000\n",
       "mean   462.638633        3.354152\n",
       "std    268.511848        7.977530\n",
       "min      0.000000        1.000000\n",
       "25%    224.000000        1.100000\n",
       "50%    472.000000        1.600000\n",
       "75%    692.000000        3.100000\n",
       "max    934.000000      140.000000"
      ]
     },
     "execution_count": 234,
     "metadata": {},
     "output_type": "execute_result"
    }
   ],
   "source": [
    "start.describe()"
   ]
  },
  {
   "cell_type": "code",
   "execution_count": 236,
   "id": "41dfbabd-9b0b-4c02-adb2-7e56adcb8862",
   "metadata": {},
   "outputs": [
    {
     "name": "stdout",
     "output_type": "stream",
     "text": [
      "Country\n",
      "United States     477\n",
      "China             169\n",
      "United Kingdom     37\n",
      "Germany            23\n",
      "France             19\n",
      "Netherlands         5\n",
      "Spain               4\n",
      "Sweden              4\n",
      "Switzerland         4\n",
      "Norway              3\n",
      "Ireland             3\n",
      "Denmark             2\n",
      "Finland             2\n",
      "Austria             2\n",
      "Belgium             2\n",
      "Luxembourg          1\n",
      "Estonia             1\n",
      "Lithuania           1\n",
      "Czech Republic      1\n",
      "Croatia             1\n",
      "Name: count, dtype: int64\n"
     ]
    }
   ],
   "source": [
    "print(start['Country'].value_counts())"
   ]
  },
  {
   "cell_type": "code",
   "execution_count": 248,
   "id": "86d32b77-0288-4dd3-be65-002c01468807",
   "metadata": {},
   "outputs": [
    {
     "name": "stdout",
     "output_type": "stream",
     "text": [
      "Unnamed: 0          0\n",
      "Company             0\n",
      "Valuation ($B)      0\n",
      "Country             0\n",
      "City                0\n",
      "Industry            0\n",
      "Select Investors    1\n",
      "dtype: int64\n"
     ]
    }
   ],
   "source": [
    "print(start.isnull().sum())  # Vérifier les valeurs manquantes par colonne"
   ]
  },
  {
   "cell_type": "code",
   "execution_count": 250,
   "id": "b28c8cb2-e5b2-4c87-aac3-8cd003fe38e9",
   "metadata": {},
   "outputs": [
    {
     "name": "stdout",
     "output_type": "stream",
     "text": [
      "   Unnamed: 0      Company  Valuation ($B)         Country           City  \\\n",
      "0           0    Bytedance           140.0           China        Beijing   \n",
      "1           1       SpaceX           100.3   United States      Hawthorne   \n",
      "2           2       Stripe            95.0   United States  San Francisco   \n",
      "3           3       Klarna            45.6          Sweden      Stockholm   \n",
      "4           5    Instacart            39.0   United States  San Francisco   \n",
      "5           6   Databricks            38.0   United States  San Francisco   \n",
      "6           7      Revolut            33.0  United Kingdom         London   \n",
      "7           9   Epic Games            28.7   United States           Cary   \n",
      "8          10        Chime            25.0   United States  San Francisco   \n",
      "9          13  Xiaohongshu            20.0           China       Shanghai   \n",
      "\n",
      "                              Industry  \\\n",
      "0              Artificial intelligence   \n",
      "1                                Other   \n",
      "2                              Fintech   \n",
      "3                              Fintech   \n",
      "4  Supply chain, logistics, & delivery   \n",
      "5          Data management & analytics   \n",
      "6                              Fintech   \n",
      "7                                Other   \n",
      "8                              Fintech   \n",
      "9      E-commerce & direct-to-consumer   \n",
      "\n",
      "                                    Select Investors  \n",
      "0  Sequoia Capital China, SIG Asia Investments, S...  \n",
      "1  Founders Fund, Draper Fisher Jurvetson, Rothen...  \n",
      "2        Khosla Ventures, LowercaseCapital, capitalG  \n",
      "3  Institutional Venture Partners, Sequoia Capita...  \n",
      "4  Khosla Ventures, Kleiner Perkins Caufield & By...  \n",
      "5  Andreessen Horowitz, New Enterprise Associates...  \n",
      "6         index Ventures, DST Global, Ribbit Capital  \n",
      "7              Tencent Holdings, KKR, Smash Ventures  \n",
      "8   Forerunner Ventures, Crosslink Capital, Homebrew  \n",
      "9                     GGV Capital, ZhenFund, Tencent  \n"
     ]
    }
   ],
   "source": [
    "top_10 = start.nlargest(10, 'Valuation ($B)')\n",
    "print(top_10)"
   ]
  },
  {
   "cell_type": "code",
   "execution_count": 252,
   "id": "b14acaf6-3f14-4a9c-86e3-7b8c9e028862",
   "metadata": {},
   "outputs": [
    {
     "data": {
      "text/plain": [
       "Country\n",
       "United States     477\n",
       "China             169\n",
       "United Kingdom     37\n",
       "Germany            23\n",
       "France             19\n",
       "Netherlands         5\n",
       "Spain               4\n",
       "Sweden              4\n",
       "Switzerland         4\n",
       "Norway              3\n",
       "Ireland             3\n",
       "Denmark             2\n",
       "Finland             2\n",
       "Austria             2\n",
       "Belgium             2\n",
       "Luxembourg          1\n",
       "Estonia             1\n",
       "Lithuania           1\n",
       "Czech Republic      1\n",
       "Croatia             1\n",
       "Name: count, dtype: int64"
      ]
     },
     "execution_count": 252,
     "metadata": {},
     "output_type": "execute_result"
    }
   ],
   "source": [
    "startups_par_pays = start['Country'].value_counts()\n",
    "\n",
    "startups_par_pays"
   ]
  },
  {
   "cell_type": "code",
   "execution_count": 56,
   "id": "83f7ffce-2bc6-4a1e-9214-0d29bbdac81d",
   "metadata": {},
   "outputs": [
    {
     "data": {
      "text/plain": [
       "Industry\n",
       "Internet software & services           147\n",
       "Fintech                                143\n",
       "E-commerce & direct-to-consumer         75\n",
       "Health                                  58\n",
       "Artificial intelligence                 58\n",
       "Other                                   40\n",
       "Data management & analytics             36\n",
       "Supply chain, logistics, & delivery     34\n",
       "Cybersecurity                           33\n",
       "Hardware                                31\n",
       "Mobile & telecommunications             29\n",
       "Auto & transportation                   25\n",
       "Edtech                                  20\n",
       "Consumer & retail                       20\n",
       "Travel                                   8\n",
       "Artificial Intelligence                  3\n",
       "Finttech                                 1\n",
       "Name: count, dtype: int64"
      ]
     },
     "execution_count": 56,
     "metadata": {},
     "output_type": "execute_result"
    }
   ],
   "source": [
    "startups_par_industrie = start['Industry'].value_counts()\n",
    "startups_par_industrie"
   ]
  },
  {
   "cell_type": "code",
   "execution_count": 54,
   "id": "de6fae5c-78c6-4e91-af91-b40bed3ff76e",
   "metadata": {},
   "outputs": [
    {
     "data": {
      "text/plain": [
       "Country\n",
       "Austria            2.905000\n",
       "Belgium            3.775000\n",
       "China              3.369704\n",
       "Croatia            1.000000\n",
       "Czech Republic     1.200000\n",
       "Denmark            1.350000\n",
       "Estonia            4.750000\n",
       "Finland            1.500000\n",
       "France             1.874211\n",
       "Germany            2.896957\n",
       "Ireland            2.066667\n",
       "Lithuania          4.530000\n",
       "Luxembourg         2.000000\n",
       "Netherlands        2.860000\n",
       "Norway             1.266667\n",
       "Spain              1.487500\n",
       "Sweden            14.520000\n",
       "Switzerland        1.400000\n",
       "United Kingdom     4.061892\n",
       "United States      3.362746\n",
       "Name: Valuation ($B), dtype: float64"
      ]
     },
     "execution_count": 54,
     "metadata": {},
     "output_type": "execute_result"
    }
   ],
   "source": [
    "valuation_par_pays = start.groupby('Country')['Valuation ($B)'].mean()\n",
    "valuation_par_pays"
   ]
  },
  {
   "cell_type": "code",
   "execution_count": 262,
   "id": "59fc6b9f-2f9e-4ae5-aa9c-3bfe2d314ff5",
   "metadata": {},
   "outputs": [
    {
     "data": {
      "text/plain": [
       "Industry\n",
       "Fintech                                571.37\n",
       "Internet software & services           401.63\n",
       "Artificial intelligence                292.21\n",
       "Other                                  229.64\n",
       "E-commerce & direct-to-consumer        226.12\n",
       "Health                                 160.22\n",
       "Data management & analytics            121.70\n",
       "Hardware                                97.09\n",
       "Cybersecurity                           87.75\n",
       "Supply chain, logistics, & delivery     86.16\n",
       "Auto & transportation                   76.30\n",
       "Mobile & telecommunications             60.59\n",
       "Consumer & retail                       59.35\n",
       "Edtech                                  51.53\n",
       "Travel                                  17.65\n",
       "Finttech                                10.00\n",
       "Artificial Intelligence                  3.20\n",
       "Name: Valuation ($B), dtype: float64"
      ]
     },
     "execution_count": 262,
     "metadata": {},
     "output_type": "execute_result"
    }
   ],
   "source": [
    "industrie_plus_valuable = start.groupby('Industry')['Valuation ($B)'].sum().sort_values(ascending=False)\n",
    "industrie_plus_valuable"
   ]
  },
  {
   "cell_type": "code",
   "execution_count": 270,
   "id": "48a4b25c-c8c3-443a-82ed-10ee377b6021",
   "metadata": {},
   "outputs": [
    {
     "name": "stdout",
     "output_type": "stream",
     "text": [
      "Select Investors\n",
      "General Atlantic                                                                               2\n",
      "Pelion Venture Partners, Foundation Capital, Thoma Bravo                                       2\n",
      "Shunwei Capital Partners, China Media Group, Guangzhou Huiyin Aofeng Equity Investment Fund    2\n",
      "Caffeinated Capital, Obvious Ventures, Venrock                                                 2\n",
      "Speedinvest, Valar Ventures, Uniqa Ventures                                                    2\n",
      "Greylock Partners, Google Ventures, BlackRock                                                  2\n",
      "Global Founders Capital, Shea Ventures, Greycroft                                              2\n",
      "Undisclosed                                                                                    2\n",
      "Two Sigma Ventures, Flint Capital, Commerce Ventures                                           2\n",
      "SoftBank Group                                                                                 2\n",
      "Name: count, dtype: int64\n"
     ]
    }
   ],
   "source": [
    "investors_counts = start['Select Investors'].value_counts()\n",
    "print(investors_counts.head(10))\n"
   ]
  },
  {
   "cell_type": "code",
   "execution_count": 272,
   "id": "3cd8ba02-131f-440a-ad01-72dcdd3c6133",
   "metadata": {},
   "outputs": [
    {
     "name": "stdout",
     "output_type": "stream",
     "text": [
      "Country\n",
      "United States     1604.03\n",
      "China              569.48\n",
      "United Kingdom     150.29\n",
      "Germany             66.63\n",
      "Sweden              58.08\n",
      "France              35.61\n",
      "Netherlands         14.30\n",
      "Belgium              7.55\n",
      "Ireland              6.20\n",
      "Spain                5.95\n",
      "Austria              5.81\n",
      "Switzerland          5.60\n",
      "Estonia              4.75\n",
      "Lithuania            4.53\n",
      "Norway               3.80\n",
      "Finland              3.00\n",
      "Denmark              2.70\n",
      "Luxembourg           2.00\n",
      "Czech Republic       1.20\n",
      "Croatia              1.00\n",
      "Name: Valuation ($B), dtype: float64\n"
     ]
    }
   ],
   "source": [
    "valuation_totale_par_pays = start.groupby('Country')['Valuation ($B)'].sum().sort_values(ascending=False)\n",
    "print(valuation_totale_par_pays)\n"
   ]
  },
  {
   "cell_type": "code",
   "execution_count": null,
   "id": "32aecbe3-02c4-4317-977c-c13b81416962",
   "metadata": {},
   "outputs": [],
   "source": []
  }
 ],
 "metadata": {
  "kernelspec": {
   "display_name": "Python 3 (ipykernel)",
   "language": "python",
   "name": "python3"
  },
  "language_info": {
   "codemirror_mode": {
    "name": "ipython",
    "version": 3
   },
   "file_extension": ".py",
   "mimetype": "text/x-python",
   "name": "python",
   "nbconvert_exporter": "python",
   "pygments_lexer": "ipython3",
   "version": "3.12.7"
  }
 },
 "nbformat": 4,
 "nbformat_minor": 5
}
